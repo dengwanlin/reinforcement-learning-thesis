{
 "cells": [
  {
   "metadata": {
    "ExecuteTime": {
     "end_time": "2025-05-14T23:57:43.120651Z",
     "start_time": "2025-05-14T23:57:43.097650Z"
    }
   },
   "cell_type": "code",
   "source": [
    "import numpy as np\n",
    "import time"
   ],
   "id": "11358da39ccc7a9f",
   "outputs": [],
   "execution_count": 33
  },
  {
   "metadata": {
    "ExecuteTime": {
     "end_time": "2025-05-14T23:57:43.848124Z",
     "start_time": "2025-05-14T23:57:43.154653Z"
    }
   },
   "cell_type": "code",
   "source": [
    "# Größe der Arrays für den Vergleich\n",
    "size = 1_000_000"
   ],
   "id": "dc5a1e08d5222484",
   "outputs": [],
   "execution_count": 34
  },
  {
   "metadata": {
    "ExecuteTime": {
     "end_time": "2025-05-14T23:57:45.511103Z",
     "start_time": "2025-05-14T23:57:45.295088Z"
    }
   },
   "cell_type": "code",
   "source": [
    "# 1. Python Liste vs. NumPy Array für quadratische Operationen\n",
    "print(\"Vergleich: Quadrieren von einer Million Zahlen\")"
   ],
   "id": "ccc61e1535397779",
   "outputs": [
    {
     "name": "stdout",
     "output_type": "stream",
     "text": [
      "Vergleich: Quadrieren von einer Million Zahlen\n"
     ]
    }
   ],
   "execution_count": 35
  },
  {
   "metadata": {
    "ExecuteTime": {
     "end_time": "2025-05-14T23:57:49.323649Z",
     "start_time": "2025-05-14T23:57:45.886130Z"
    }
   },
   "cell_type": "code",
   "source": [
    "# Python Liste\n",
    "start_time = time.time()\n",
    "python_list = [i ** 2 for i in range(size)]\n",
    "python_time = time.time() - start_time\n",
    "\n",
    "# NumPy Array\n",
    "start_time = time.time()\n",
    "numpy_array = np.arange(size) ** 2\n",
    "numpy_time = time.time() - start_time\n",
    "\n",
    "print(f\"Python Liste: {python_time:.4f} Sekunden\")\n",
    "print(f\"NumPy Array: {numpy_time:.4f} Sekunden\")\n",
    "print(f\"NumPy ist {python_time/numpy_time:.1f}x schneller\")"
   ],
   "id": "88fc055bae56cb3",
   "outputs": [
    {
     "name": "stdout",
     "output_type": "stream",
     "text": [
      "Python Liste: 1.9637 Sekunden\n",
      "NumPy Array: 0.0120 Sekunden\n",
      "NumPy ist 163.6x schneller\n"
     ]
    }
   ],
   "execution_count": 36
  },
  {
   "metadata": {
    "ExecuteTime": {
     "end_time": "2025-05-14T23:57:50.003700Z",
     "start_time": "2025-05-14T23:57:49.943695Z"
    }
   },
   "cell_type": "code",
   "source": [
    "# 2. Matrixmultiplikation\n",
    "print(\"\\nVergleich: Matrixmultiplikation\")\n",
    "size = 100\n",
    "# Python Liste von Listen\n",
    "matrix1 = [[i+j for j in range(size)] for i in range(size)]\n",
    "matrix2 = [[i*j for j in range(size)] for i in range(size)]"
   ],
   "id": "6735b134ceb7c924",
   "outputs": [
    {
     "name": "stdout",
     "output_type": "stream",
     "text": [
      "\n",
      "Vergleich: Matrixmultiplikation\n"
     ]
    }
   ],
   "execution_count": 37
  },
  {
   "metadata": {
    "ExecuteTime": {
     "end_time": "2025-05-14T23:57:53.905024Z",
     "start_time": "2025-05-14T23:57:50.694792Z"
    }
   },
   "cell_type": "code",
   "source": [
    "\n",
    "# Python Implementation\n",
    "start_time = time.time()\n",
    "result = [[sum(a*b for a,b in zip(row,col))\n",
    "           for col in zip(*matrix2)]\n",
    "           for row in matrix1]\n",
    "python_time = time.time() - start_time"
   ],
   "id": "1ce3d89b798d44c2",
   "outputs": [],
   "execution_count": 38
  },
  {
   "metadata": {
    "ExecuteTime": {
     "end_time": "2025-05-14T23:57:55.752223Z",
     "start_time": "2025-05-14T23:57:54.251108Z"
    }
   },
   "cell_type": "code",
   "source": [
    "\n",
    "# NumPy Implementation\n",
    "np_matrix1 = np.array(matrix1)\n",
    "np_matrix2 = np.array(matrix2)\n",
    "start_time = time.time()\n",
    "np_result = np.dot(np_matrix1, np_matrix2)\n",
    "numpy_time = time.time() - start_time\n",
    "\n",
    "print(f\"Python Listen: {python_time:.4f} Sekunden\")\n",
    "print(f\"NumPy Arrays: {numpy_time:.4f} Sekunden\")\n",
    "print(f\"NumPy ist {python_time/numpy_time:.1f}x schneller\")"
   ],
   "id": "55324c07156ac05",
   "outputs": [
    {
     "name": "stdout",
     "output_type": "stream",
     "text": [
      "Python Listen: 1.7551 Sekunden\n",
      "NumPy Arrays: 0.0020 Sekunden\n",
      "NumPy ist 878.5x schneller\n"
     ]
    }
   ],
   "execution_count": 39
  },
  {
   "metadata": {
    "ExecuteTime": {
     "end_time": "2025-05-14T23:57:56.928775Z",
     "start_time": "2025-05-14T23:57:55.785224Z"
    }
   },
   "cell_type": "code",
   "source": [
    "# 3. Speicherverbrauch-Vergleich\n",
    "import sys\n",
    "\n",
    "python_list = list(range(1000))\n",
    "numpy_array = np.arange(1000)\n",
    "\n",
    "print(\"\\nSpeicherverbrauch-Vergleich (1000 Elemente):\")\n",
    "print(f\"Python Liste: {sys.getsizeof(python_list)} Bytes\")\n",
    "print(f\"NumPy Array: {numpy_array.nbytes} Bytes\")"
   ],
   "id": "e819b42d88b570d6",
   "outputs": [
    {
     "name": "stdout",
     "output_type": "stream",
     "text": [
      "\n",
      "Speicherverbrauch-Vergleich (1000 Elemente):\n",
      "Python Liste: 8056 Bytes\n",
      "NumPy Array: 8000 Bytes\n"
     ]
    }
   ],
   "execution_count": 40
  },
  {
   "metadata": {
    "ExecuteTime": {
     "end_time": "2025-05-14T23:57:57.520750Z",
     "start_time": "2025-05-14T23:57:57.281661Z"
    }
   },
   "cell_type": "code",
   "source": "",
   "id": "b6dd221e6d535efb",
   "outputs": [],
   "execution_count": null
  }
 ],
 "metadata": {
  "kernelspec": {
   "display_name": "Python 3",
   "language": "python",
   "name": "python3"
  },
  "language_info": {
   "codemirror_mode": {
    "name": "ipython",
    "version": 2
   },
   "file_extension": ".py",
   "mimetype": "text/x-python",
   "name": "python",
   "nbconvert_exporter": "python",
   "pygments_lexer": "ipython2",
   "version": "2.7.6"
  }
 },
 "nbformat": 4,
 "nbformat_minor": 5
}
