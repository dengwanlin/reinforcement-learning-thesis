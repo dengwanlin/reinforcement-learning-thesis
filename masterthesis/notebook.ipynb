{
 "cells": [
  {
   "metadata": {},
   "cell_type": "markdown",
   "source": [
    "# This is a sample Jupyter Notebook\n",
    "\n",
    "Below is an example of a code cell. \n",
    "Put your cursor into the cell and press Shift+Enter to execute it and select the next one, or click 'Run Cell' button.\n",
    "\n",
    "Press Double Shift to search everywhere for classes, files, tool windows, actions, and settings.\n",
    "\n",
    "To learn more about Jupyter Notebooks in PyCharm, see [help](https://www.jetbrains.com/help/pycharm/ipython-notebook-support.html).\n",
    "For an overview of PyCharm, go to Help -> Learn IDE features or refer to [our documentation](https://www.jetbrains.com/help/pycharm/getting-started.html)."
   ],
   "id": "8a77807f92f26ee"
  },
  {
   "metadata": {
    "ExecuteTime": {
     "end_time": "2025-04-16T17:51:14.970122Z",
     "start_time": "2025-04-16T17:51:03.970686Z"
    }
   },
   "cell_type": "code",
   "source": [
    "from faster_whisper import WhisperModel\n",
    "\n",
    "model = WhisperModel(\"base\", compute_type=\"int8\")\n",
    "segments, _ = model.transcribe(\"test.m4a\")\n",
    "for segment in segments:\n",
    "    print(segment.text)\n"
   ],
   "id": "fbc121e30a2defb3",
   "outputs": [
    {
     "name": "stdout",
     "output_type": "stream",
     "text": [
      "就不可能自己唱语\n",
      "亲爱的地线从来从别的有透过\n",
      "我们这儿有很多网友\n",
      "准备自己的类传来说的\n",
      "赐标品质换上\n",
      "例如说天泡不上\n",
      "看到了大量我们出的事儿的\n",
      "一切是你的赐标\n",
      "是别而疼自己的罗\n"
     ]
    }
   ],
   "execution_count": 3
  },
  {
   "metadata": {
    "ExecuteTime": {
     "end_time": "2025-04-16T17:56:36.906941Z",
     "start_time": "2025-04-16T17:56:31.714110Z"
    }
   },
   "cell_type": "code",
   "source": [
    "import sounddevice as sd\n",
    "from scipy.io.wavfile import write\n",
    "\n",
    "# 参数配置\n",
    "samplerate = 16000  # Whisper 推荐采样率是 16000Hz\n",
    "duration = 5  # 录音时长（秒）\n",
    "filename = \"output.wav\"\n",
    "\n",
    "print(\"🎤 开始录音，请说话...\")\n",
    "recording = sd.rec(int(samplerate * duration), samplerate=samplerate, channels=1, dtype='int16')\n",
    "sd.wait()  # 等待录音完成\n",
    "print(\"✅ 录音完成，保存为\", filename)\n",
    "\n",
    "write(filename, samplerate, recording)  # 保存为 .wav 文件\n"
   ],
   "id": "c07a332bce71519",
   "outputs": [
    {
     "name": "stdout",
     "output_type": "stream",
     "text": [
      "🎤 开始录音，请说话...\n",
      "✅ 录音完成，保存为 output.wav\n"
     ]
    }
   ],
   "execution_count": 5
  }
 ],
 "metadata": {
  "kernelspec": {
   "display_name": "Python 3",
   "language": "python",
   "name": "python3"
  },
  "language_info": {
   "codemirror_mode": {
    "name": "ipython",
    "version": 2
   },
   "file_extension": ".py",
   "mimetype": "text/x-python",
   "name": "python",
   "nbconvert_exporter": "python",
   "pygments_lexer": "ipython2",
   "version": "2.7.6"
  }
 },
 "nbformat": 4,
 "nbformat_minor": 5
}
