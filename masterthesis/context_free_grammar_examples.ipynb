{
 "cells": [
  {
   "cell_type": "code",
   "execution_count": 1,
   "id": "initial_id",
   "metadata": {
    "ExecuteTime": {
     "end_time": "2025-05-14T18:44:46.578941Z",
     "start_time": "2025-05-14T18:44:42.631904Z"
    },
    "collapsed": true
   },
   "outputs": [
    {
     "name": "stderr",
     "output_type": "stream",
     "text": [
      "[nltk_data] Downloading package punkt to /homes/sohawan2/nltk_data...\n",
      "[nltk_data]   Unzipping tokenizers/punkt.zip.\n"
     ]
    },
    {
     "data": {
      "text/plain": [
       "True"
      ]
     },
     "execution_count": 1,
     "metadata": {},
     "output_type": "execute_result"
    }
   ],
   "source": [
    "# !pip install nltk\n",
    "\n",
    "import nltk\n",
    "from nltk import CFG\n",
    "from nltk.parse.generate import generate\n",
    "nltk.download('punkt')"
   ]
  },
  {
   "cell_type": "code",
   "execution_count": 21,
   "id": "10b49702425f02cf",
   "metadata": {
    "ExecuteTime": {
     "end_time": "2025-05-14T11:02:45.705759Z",
     "start_time": "2025-05-14T11:02:45.670758Z"
    }
   },
   "outputs": [],
   "source": [
    "### 上下文无关文法示例\n",
    "# 本笔记本展示了几个CFG(上下文无关文法)的实例。"
   ]
  },
  {
   "cell_type": "code",
   "execution_count": 24,
   "id": "2c593ab596a1d5bb",
   "metadata": {
    "ExecuteTime": {
     "end_time": "2025-05-14T18:44:51.433005Z",
     "start_time": "2025-05-14T18:44:51.315997Z"
    }
   },
   "outputs": [
    {
     "name": "stdout",
     "output_type": "stream",
     "text": [
      "算术文法规则：\n",
      "Grammar with 9 productions (start state = S)\n",
      "    S -> E\n",
      "    E -> E '+' T\n",
      "    E -> E '-' T\n",
      "    E -> T\n",
      "    T -> T '*' F\n",
      "    T -> T '/' F\n",
      "    T -> F\n",
      "    F -> '(' E ')'\n",
      "    F -> 'number'\n"
     ]
    }
   ],
   "source": [
    "# 算术表达式的文法\n",
    "arithmetic_grammar = CFG.fromstring(\"\"\"\n",
    "    S -> E\n",
    "    E -> E '+' T | E '-' T | T\n",
    "    T -> T '*' F | T '/' F | F\n",
    "    F -> '(' E ')' | 'number'\n",
    "\"\"\")\n",
    "\n",
    "print(\"算术文法规则：\")\n",
    "print(arithmetic_grammar)"
   ]
  },
  {
   "cell_type": "code",
   "execution_count": 14,
   "id": "b869981a72739aa7",
   "metadata": {
    "ExecuteTime": {
     "end_time": "2025-05-14T10:56:38.274470Z",
     "start_time": "2025-05-14T10:56:38.066453Z"
    }
   },
   "outputs": [
    {
     "name": "stdout",
     "output_type": "stream",
     "text": [
      "德语句子文法规则：\n",
      "Grammar with 17 productions (start state = S)\n",
      "    S -> NP VP\n",
      "    NP -> Det N\n",
      "    NP -> Det ADJ N\n",
      "    VP -> V\n",
      "    VP -> V NP\n",
      "    Det -> 'der'\n",
      "    Det -> 'die'\n",
      "    Det -> 'das'\n",
      "    N -> 'Hund'\n",
      "    N -> 'Katze'\n",
      "    N -> 'Buch'\n",
      "    V -> 'läuft'\n",
      "    V -> 'liest'\n",
      "    V -> 'schläft'\n",
      "    ADJ -> 'große'\n",
      "    ADJ -> 'kleine'\n",
      "    ADJ -> 'rote'\n"
     ]
    }
   ],
   "source": [
    "# 简单德语句子的文法\n",
    "german_grammar = CFG.fromstring(\"\"\"\n",
    "    S -> NP VP\n",
    "    NP -> Det N | Det ADJ N\n",
    "    VP -> V | V NP\n",
    "    Det -> 'der' | 'die' | 'das'\n",
    "    N -> 'Hund' | 'Katze' | 'Buch'\n",
    "    V -> 'läuft' | 'liest' | 'schläft'\n",
    "    ADJ -> 'große' | 'kleine' | 'rote'\n",
    "\"\"\")\n",
    "\n",
    "print(\"德语句子文法规则：\")\n",
    "print(german_grammar)"
   ]
  },
  {
   "cell_type": "code",
   "execution_count": 15,
   "id": "bf40f0effedb4250",
   "metadata": {
    "ExecuteTime": {
     "end_time": "2025-05-14T10:56:38.539487Z",
     "start_time": "2025-05-14T10:56:38.449481Z"
    }
   },
   "outputs": [
    {
     "name": "stdout",
     "output_type": "stream",
     "text": [
      "使用德语文法生成的示例句子：\n",
      "der Hund läuft\n",
      "der Hund liest\n",
      "der Hund schläft\n",
      "der Hund läuft der Hund\n",
      "der Hund läuft der Katze\n"
     ]
    }
   ],
   "source": [
    "print(\"使用德语文法生成的示例句子：\")\n",
    "for sentence in generate(german_grammar, n=5):\n",
    "    print(' '.join(sentence))"
   ]
  },
  {
   "cell_type": "code",
   "execution_count": 16,
   "id": "c1439e3fcbd2c6ee",
   "metadata": {
    "ExecuteTime": {
     "end_time": "2025-05-14T10:56:38.680499Z",
     "start_time": "2025-05-14T10:56:38.636496Z"
    }
   },
   "outputs": [
    {
     "name": "stdout",
     "output_type": "stream",
     "text": [
      "回文串文法规则：\n",
      "Grammar with 5 productions (start state = S)\n",
      "    S -> 'a' S 'a'\n",
      "    S -> 'b' S 'b'\n",
      "    S -> 'a'\n",
      "    S -> 'b'\n",
      "    S -> ''\n"
     ]
    }
   ],
   "source": [
    "# 回文串文法\n",
    "palindrome_grammar = CFG.fromstring(\"\"\"\n",
    "    S -> 'a' S 'a' | 'b' S 'b' | 'a' | 'b' | ''\n",
    "\"\"\")\n",
    "\n",
    "print(\"回文串文法规则：\")\n",
    "print(palindrome_grammar)"
   ]
  },
  {
   "cell_type": "code",
   "execution_count": 17,
   "id": "17a65f4affcbc66e",
   "metadata": {
    "ExecuteTime": {
     "end_time": "2025-05-14T10:56:38.776506Z",
     "start_time": "2025-05-14T10:56:38.714500Z"
    }
   },
   "outputs": [
    {
     "name": "stdout",
     "output_type": "stream",
     "text": [
      "句子语法树分析结果： der kleine Hund läuft\n",
      "            S            \n",
      "       _____|_________    \n",
      "      NP              VP \n",
      "  ____|_________      |   \n",
      "Det  ADJ        N     V  \n",
      " |    |         |     |   \n",
      "der kleine     Hund läuft\n",
      "\n"
     ]
    }
   ],
   "source": [
    "from nltk import ChartParser\n",
    "\n",
    "parser = ChartParser(german_grammar)\n",
    "test_sentence = ['der', 'kleine', 'Hund', 'läuft']\n",
    "\n",
    "print(\"句子语法树分析结果：\", ' '.join(test_sentence))\n",
    "for tree in parser.parse(test_sentence):\n",
    "    tree.pretty_print()"
   ]
  }
 ],
 "metadata": {
  "kernelspec": {
   "display_name": "Python 3",
   "language": "python",
   "name": "python3"
  },
  "language_info": {
   "codemirror_mode": {
    "name": "ipython",
    "version": 3
   },
   "file_extension": ".py",
   "mimetype": "text/x-python",
   "name": "python",
   "nbconvert_exporter": "python",
   "pygments_lexer": "ipython3",
   "version": "3.10.12"
  }
 },
 "nbformat": 4,
 "nbformat_minor": 5
}
