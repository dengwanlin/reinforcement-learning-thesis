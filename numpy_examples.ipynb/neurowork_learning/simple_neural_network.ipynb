{
 "cells": [
  {
   "cell_type": "markdown",
   "id": "46d4ada172681a83",
   "metadata": {},
   "source": [
    "# 简单神经网络实现\n",
    "这个notebook展示了如何使用Python和NumPy实现一个基础的前馈神经网络。这个神经网络包含：\n",
    "- 输入层\n",
    "- 一个隐藏层\n",
    "- 输出层\n",
    "我们将使用sigmoid作为激活函数。"
   ]
  },
  {
   "cell_type": "code",
   "execution_count": 11,
   "id": "4d762fc574d37684",
   "metadata": {
    "ExecuteTime": {
     "end_time": "2025-05-16T12:02:54.942795Z",
     "start_time": "2025-05-16T12:02:54.873294Z"
    }
   },
   "outputs": [],
   "source": [
    "import numpy as np\n",
    "\n",
    "# sigmoid激活函数\n",
    "def sigmoid(x):\n",
    "    return 1 / (1 + np.exp(-x))\n",
    "\n",
    "# sigmoid函数的导数\n",
    "def sigmoid_derivative(x):\n",
    "    return x * (1 - x)"
   ]
  },
  {
   "cell_type": "code",
   "execution_count": 12,
   "id": "377d5448ae1a160b",
   "metadata": {
    "ExecuteTime": {
     "end_time": "2025-05-16T12:02:54.960048Z",
     "start_time": "2025-05-16T12:02:54.952155Z"
    }
   },
   "outputs": [],
   "source": [
    "class NeuralNetwork:\n",
    "    def __init__(self, x, y):\n",
    "        self.input = x\n",
    "        self.weights1 = np.random.rand(self.input.shape[1], 4) # 连接输入层到隐藏层的权重\n",
    "        self.weights2 = np.random.rand(4, 1)                   # 连接隐藏层到输出层的权重\n",
    "        self.y = y\n",
    "        self.output = np.zeros(y.shape)\n",
    "\n",
    "    def feedforward(self):\n",
    "        self.layer1 = sigmoid(np.dot(self.input, self.weights1))\n",
    "        self.output = sigmoid(np.dot(self.layer1, self.weights2))\n",
    "\n",
    "    def backprop(self):\n",
    "        # 反向传播\n",
    "        d_weights2 = np.dot(self.layer1.T, 2 * (self.y - self.output) * sigmoid_derivative(self.output))\n",
    "        d_weights1 = np.dot(self.input.T,\n",
    "                           np.dot(2 * (self.y - self.output) * sigmoid_derivative(self.output),\n",
    "                                 self.weights2.T) * sigmoid_derivative(self.layer1))\n",
    "\n",
    "        # 更新权重\n",
    "        self.weights1 += d_weights1\n",
    "        self.weights2 +=d_weights1"
   ]
  },
  {
   "cell_type": "code",
   "execution_count": 13,
   "id": "63304a32ff7c14fe",
   "metadata": {
    "ExecuteTime": {
     "end_time": "2025-05-16T12:02:55.094012Z",
     "start_time": "2025-05-16T12:02:55.090456Z"
    }
   },
   "outputs": [],
   "source": [
    "# 创建示例数据\n",
    "X = np.array([[0,0,1],\n",
    "              [0,1,1],\n",
    "              [1,0,1],\n",
    "              [1,1,1]])\n",
    "\n",
    "y = np.array([[0],\n",
    "              [1],\n",
    "              [1],\n",
    "              [0]])\n",
    "\n",
    "# 初始化神经网络\n",
    "nn = NeuralNetwork(X, y)"
   ]
  },
  {
   "cell_type": "code",
   "execution_count": 15,
   "id": "663b5c37708370b9",
   "metadata": {
    "ExecuteTime": {
     "end_time": "2025-05-16T12:02:55.375200Z",
     "start_time": "2025-05-16T12:02:55.143216Z"
    }
   },
   "outputs": [
    {
     "ename": "ValueError",
     "evalue": "operands could not be broadcast together with shapes (4,1) (3,4) (4,1) ",
     "output_type": "error",
     "traceback": [
      "\u001b[0;31m---------------------------------------------------------------------------\u001b[0m",
      "\u001b[0;31mValueError\u001b[0m                                Traceback (most recent call last)",
      "Cell \u001b[0;32mIn[15], line 4\u001b[0m\n\u001b[1;32m      2\u001b[0m \u001b[38;5;28;01mfor\u001b[39;00m i \u001b[38;5;129;01min\u001b[39;00m \u001b[38;5;28mrange\u001b[39m(\u001b[38;5;241m1500\u001b[39m):\n\u001b[1;32m      3\u001b[0m     nn\u001b[38;5;241m.\u001b[39mfeedforward()\n\u001b[0;32m----> 4\u001b[0m     \u001b[43mnn\u001b[49m\u001b[38;5;241;43m.\u001b[39;49m\u001b[43mbackprop\u001b[49m\u001b[43m(\u001b[49m\u001b[43m)\u001b[49m\n\u001b[1;32m      6\u001b[0m     \u001b[38;5;66;03m# 每500次迭代显示一次损失\u001b[39;00m\n\u001b[1;32m      7\u001b[0m     \u001b[38;5;28;01mif\u001b[39;00m i \u001b[38;5;241m%\u001b[39m \u001b[38;5;241m500\u001b[39m \u001b[38;5;241m==\u001b[39m \u001b[38;5;241m0\u001b[39m:\n",
      "Cell \u001b[0;32mIn[12], line 22\u001b[0m, in \u001b[0;36mNeuralNetwork.backprop\u001b[0;34m(self)\u001b[0m\n\u001b[1;32m     20\u001b[0m \u001b[38;5;66;03m# 更新权重\u001b[39;00m\n\u001b[1;32m     21\u001b[0m \u001b[38;5;28mself\u001b[39m\u001b[38;5;241m.\u001b[39mweights1 \u001b[38;5;241m+\u001b[39m\u001b[38;5;241m=\u001b[39m d_weights1\n\u001b[0;32m---> 22\u001b[0m \u001b[38;5;28mself\u001b[39m\u001b[38;5;241m.\u001b[39mweights2 \u001b[38;5;241m+\u001b[39m\u001b[38;5;241m=\u001b[39md_weights1\n",
      "\u001b[0;31mValueError\u001b[0m: operands could not be broadcast together with shapes (4,1) (3,4) (4,1) "
     ]
    }
   ],
   "source": [
    "# 训练神经网络\n",
    "for i in range(1500):\n",
    "    nn.feedforward()\n",
    "    nn.backprop()\n",
    "\n",
    "    # 每500次迭代显示一次损失\n",
    "    if i % 500 == 0:\n",
    "        print(f\"Epoch {i}: Loss = {np.mean(np.square(y - nn.output))}\")"
   ]
  },
  {
   "cell_type": "code",
   "execution_count": null,
   "id": "fdd69e56cc194eac",
   "metadata": {
    "ExecuteTime": {
     "end_time": "2025-05-16T12:02:55.381593121Z",
     "start_time": "2025-05-14T18:29:49.459187Z"
    }
   },
   "outputs": [
    {
     "name": "stdout",
     "output_type": "stream",
     "text": [
      "\n",
      "预测结果:\n",
      "[[0.76882324]\n",
      " [0.79496312]\n",
      " [0.81229645]\n",
      " [0.82902829]]\n"
     ]
    }
   ],
   "source": [
    "# 显示训练后的预测结果\n",
    "print(\"\\n预测结果:\")\n",
    "print(nn.output)"
   ]
  }
 ],
 "metadata": {
  "kernelspec": {
   "display_name": "Python 3",
   "language": "python",
   "name": "python3"
  },
  "language_info": {
   "codemirror_mode": {
    "name": "ipython",
    "version": 3
   },
   "file_extension": ".py",
   "mimetype": "text/x-python",
   "name": "python",
   "nbconvert_exporter": "python",
   "pygments_lexer": "ipython3",
   "version": "3.10.12"
  }
 },
 "nbformat": 4,
 "nbformat_minor": 5
}
