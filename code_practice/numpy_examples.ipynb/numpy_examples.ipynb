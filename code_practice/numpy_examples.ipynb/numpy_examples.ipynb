{
 "cells": [
  {
   "cell_type": "code",
   "execution_count": 1,
   "id": "11358da39ccc7a9f",
   "metadata": {
    "ExecuteTime": {
     "end_time": "2025-05-16T12:02:43.250376Z",
     "start_time": "2025-05-16T12:02:43.245005Z"
    }
   },
   "outputs": [],
   "source": [
    "import numpy as np\n",
    "import time"
   ]
  },
  {
   "cell_type": "code",
   "execution_count": 2,
   "id": "dc5a1e08d5222484",
   "metadata": {
    "ExecuteTime": {
     "end_time": "2025-05-16T12:02:43.277393Z",
     "start_time": "2025-05-16T12:02:43.273623Z"
    }
   },
   "outputs": [],
   "source": [
    "# Größe der Arrays für den Vergleich\n",
    "size = 1_000_000"
   ]
  },
  {
   "cell_type": "code",
   "execution_count": 3,
   "id": "ccc61e1535397779",
   "metadata": {
    "ExecuteTime": {
     "end_time": "2025-05-16T12:02:43.323815Z",
     "start_time": "2025-05-16T12:02:43.319405Z"
    }
   },
   "outputs": [
    {
     "name": "stdout",
     "output_type": "stream",
     "text": [
      "Vergleich: Quadrieren von einer Million Zahlen\n"
     ]
    }
   ],
   "source": [
    "# 1. Python Liste vs. NumPy Array für quadratische Operationen\n",
    "print(\"Vergleich: Quadrieren von einer Million Zahlen\")"
   ]
  },
  {
   "cell_type": "code",
   "execution_count": 4,
   "id": "88fc055bae56cb3",
   "metadata": {
    "ExecuteTime": {
     "end_time": "2025-05-16T12:02:43.707298Z",
     "start_time": "2025-05-16T12:02:43.386874Z"
    }
   },
   "outputs": [
    {
     "name": "stdout",
     "output_type": "stream",
     "text": [
      "Python Liste: 0.3048 Sekunden\n",
      "NumPy Array: 0.0044 Sekunden\n",
      "NumPy ist 69.8x schneller\n"
     ]
    }
   ],
   "source": [
    "# Python Liste\n",
    "start_time = time.time()\n",
    "python_list = [i ** 2 for i in range(size)]\n",
    "python_time = time.time() - start_time\n",
    "\n",
    "# NumPy Array\n",
    "start_time = time.time()\n",
    "numpy_array = np.arange(size) ** 2\n",
    "numpy_time = time.time() - start_time\n",
    "\n",
    "print(f\"Python Liste: {python_time:.4f} Sekunden\")\n",
    "print(f\"NumPy Array: {numpy_time:.4f} Sekunden\")\n",
    "print(f\"NumPy ist {python_time/numpy_time:.1f}x schneller\")"
   ]
  },
  {
   "cell_type": "code",
   "execution_count": 22,
   "id": "6735b134ceb7c924",
   "metadata": {
    "ExecuteTime": {
     "end_time": "2025-05-16T12:02:43.721720Z",
     "start_time": "2025-05-16T12:02:43.715459Z"
    }
   },
   "outputs": [
    {
     "name": "stdout",
     "output_type": "stream",
     "text": [
      "\n",
      "Vergleich: Matrixmultiplikation\n"
     ]
    }
   ],
   "source": [
    "# 2. Matrixmultiplikation\n",
    "print(\"\\nVergleich: Matrixmultiplikation\")\n",
    "size = 100\n",
    "# Python Liste von Listen\n",
    "matrix1 = [[i+j for j in range(size)] for i in range(size)]\n",
    "matrix2 = [[i*j for j in range(size)] for i in range(size)]"
   ]
  },
  {
   "cell_type": "code",
   "execution_count": 23,
   "id": "1ce3d89b798d44c2",
   "metadata": {
    "ExecuteTime": {
     "end_time": "2025-05-16T12:02:43.856312Z",
     "start_time": "2025-05-16T12:02:43.768841Z"
    }
   },
   "outputs": [],
   "source": [
    "\n",
    "# Python Implementation\n",
    "start_time = time.time()\n",
    "result = [[sum(a*b for a,b in zip(row,col))\n",
    "           for col in zip(*matrix2)]\n",
    "           for row in matrix1]\n",
    "python_time = time.time() - start_time"
   ]
  },
  {
   "cell_type": "code",
   "execution_count": 24,
   "id": "55324c07156ac05",
   "metadata": {
    "ExecuteTime": {
     "end_time": "2025-05-16T12:02:43.873283Z",
     "start_time": "2025-05-16T12:02:43.868002Z"
    }
   },
   "outputs": [
    {
     "name": "stdout",
     "output_type": "stream",
     "text": [
      "Python Listen: 0.0738 Sekunden\n",
      "NumPy Arrays: 0.0008 Sekunden\n",
      "NumPy ist 91.5x schneller\n"
     ]
    }
   ],
   "source": [
    "\n",
    "# NumPy Implementation\n",
    "np_matrix1 = np.array(matrix1)\n",
    "np_matrix2 = np.array(matrix2)\n",
    "start_time = time.time()\n",
    "np_result = np.dot(np_matrix1, np_matrix2)\n",
    "numpy_time = time.time() - start_time\n",
    "\n",
    "print(f\"Python Listen: {python_time:.4f} Sekunden\")\n",
    "print(f\"NumPy Arrays: {numpy_time:.4f} Sekunden\")\n",
    "print(f\"NumPy ist {python_time/numpy_time:.1f}x schneller\")"
   ]
  },
  {
   "cell_type": "code",
   "execution_count": 25,
   "id": "e819b42d88b570d6",
   "metadata": {
    "ExecuteTime": {
     "end_time": "2025-05-16T12:02:43.929282Z",
     "start_time": "2025-05-16T12:02:43.913264Z"
    }
   },
   "outputs": [
    {
     "name": "stdout",
     "output_type": "stream",
     "text": [
      "\n",
      "Speicherverbrauch-Vergleich (1000 Elemente):\n",
      "Python Liste: 8056 Bytes\n",
      "NumPy Array: 8000 Bytes\n"
     ]
    }
   ],
   "source": [
    "# 3. Speicherverbrauch-Vergleich\n",
    "import sys\n",
    "\n",
    "python_list = list(range(1000))\n",
    "numpy_array = np.arange(1000)\n",
    "\n",
    "print(\"\\nSpeicherverbrauch-Vergleich (1000 Elemente):\")\n",
    "print(f\"Python Liste: {sys.getsizeof(python_list)} Bytes\")\n",
    "print(f\"NumPy Array: {numpy_array.nbytes} Bytes\")"
   ]
  }
 ],
 "metadata": {
  "kernelspec": {
   "display_name": "Python 3",
   "language": "python",
   "name": "python3"
  },
  "language_info": {
   "codemirror_mode": {
    "name": "ipython",
    "version": 3
   },
   "file_extension": ".py",
   "mimetype": "text/x-python",
   "name": "python",
   "nbconvert_exporter": "python",
   "pygments_lexer": "ipython3",
   "version": "3.10.12"
  }
 },
 "nbformat": 4,
 "nbformat_minor": 5
}
