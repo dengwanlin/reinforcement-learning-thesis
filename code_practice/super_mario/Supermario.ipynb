{
 "cells": [
  {
   "cell_type": "code",
   "execution_count": null,
   "id": "34e8e665",
   "metadata": {
    "vscode": {
     "languageId": "ini"
    }
   },
   "outputs": [
    {
     "name": "stdout",
     "output_type": "stream",
     "text": [
      "Defaulting to user installation because normal site-packages is not writeable\n",
      "Requirement already satisfied: gym in /homes/sohawan2/.local/lib/python3.10/site-packages (0.26.2)\n",
      "Requirement already satisfied: gym-super-mario-bros in /homes/sohawan2/.local/lib/python3.10/site-packages (7.4.0)\n",
      "Requirement already satisfied: nes-py in /homes/sohawan2/.local/lib/python3.10/site-packages (8.2.1)\n",
      "Requirement already satisfied: cloudpickle>=1.2.0 in /homes/sohawan2/.local/lib/python3.10/site-packages (from gym) (3.1.1)\n",
      "Requirement already satisfied: gym-notices>=0.0.4 in /homes/sohawan2/.local/lib/python3.10/site-packages (from gym) (0.0.8)\n",
      "Requirement already satisfied: numpy>=1.18.0 in /homes/sohawan2/.local/lib/python3.10/site-packages (from gym) (2.2.6)\n",
      "Requirement already satisfied: pyglet<=1.5.21,>=1.4.0 in /homes/sohawan2/.local/lib/python3.10/site-packages (from nes-py) (1.5.21)\n",
      "Requirement already satisfied: tqdm>=4.48.2 in /homes/sohawan2/.local/lib/python3.10/site-packages (from nes-py) (4.67.1)\n",
      "Note: you may need to restart the kernel to use updated packages.\n"
     ]
    },
    {
     "name": "stderr",
     "output_type": "stream",
     "text": [
      "/homes/sohawan2/.local/lib/python3.10/site-packages/gym/envs/registration.py:555: UserWarning: \u001b[33mWARN: The environment SuperMarioBros-v0 is out of date. You should consider upgrading to version `v3`.\u001b[0m\n",
      "  logger.warn(\n"
     ]
    },
    {
     "ename": "OverflowError",
     "evalue": "Python integer 1024 out of bounds for uint8",
     "output_type": "error",
     "traceback": [
      "\u001b[0;31m---------------------------------------------------------------------------\u001b[0m",
      "\u001b[0;31mOverflowError\u001b[0m                             Traceback (most recent call last)",
      "Cell \u001b[0;32mIn[1], line 17\u001b[0m\n\u001b[1;32m     14\u001b[0m \u001b[38;5;28;01mfrom\u001b[39;00m\u001b[38;5;250m \u001b[39m\u001b[38;5;21;01mgym_super_mario_bros\u001b[39;00m\u001b[38;5;21;01m.\u001b[39;00m\u001b[38;5;21;01mactions\u001b[39;00m\u001b[38;5;250m \u001b[39m\u001b[38;5;28;01mimport\u001b[39;00m SIMPLE_MOVEMENT\n\u001b[1;32m     16\u001b[0m \u001b[38;5;66;03m# 创建环境\u001b[39;00m\n\u001b[0;32m---> 17\u001b[0m env \u001b[38;5;241m=\u001b[39m \u001b[43mgym_super_mario_bros\u001b[49m\u001b[38;5;241;43m.\u001b[39;49m\u001b[43mmake\u001b[49m\u001b[43m(\u001b[49m\u001b[38;5;124;43m'\u001b[39;49m\u001b[38;5;124;43mSuperMarioBros-v0\u001b[39;49m\u001b[38;5;124;43m'\u001b[39;49m\u001b[43m)\u001b[49m\n\u001b[1;32m     18\u001b[0m env \u001b[38;5;241m=\u001b[39m JoypadSpace(env, SIMPLE_MOVEMENT)\n\u001b[1;32m     20\u001b[0m \u001b[38;5;66;03m# 定义DQN网络\u001b[39;00m\n",
      "File \u001b[0;32m~/.local/lib/python3.10/site-packages/gym/envs/registration.py:640\u001b[0m, in \u001b[0;36mmake\u001b[0;34m(id, max_episode_steps, autoreset, apply_api_compatibility, disable_env_checker, **kwargs)\u001b[0m\n\u001b[1;32m    637\u001b[0m     render_mode \u001b[38;5;241m=\u001b[39m \u001b[38;5;28;01mNone\u001b[39;00m\n\u001b[1;32m    639\u001b[0m \u001b[38;5;28;01mtry\u001b[39;00m:\n\u001b[0;32m--> 640\u001b[0m     env \u001b[38;5;241m=\u001b[39m \u001b[43menv_creator\u001b[49m\u001b[43m(\u001b[49m\u001b[38;5;241;43m*\u001b[39;49m\u001b[38;5;241;43m*\u001b[39;49m\u001b[43m_kwargs\u001b[49m\u001b[43m)\u001b[49m\n\u001b[1;32m    641\u001b[0m \u001b[38;5;28;01mexcept\u001b[39;00m \u001b[38;5;167;01mTypeError\u001b[39;00m \u001b[38;5;28;01mas\u001b[39;00m e:\n\u001b[1;32m    642\u001b[0m     \u001b[38;5;28;01mif\u001b[39;00m (\n\u001b[1;32m    643\u001b[0m         \u001b[38;5;28mstr\u001b[39m(e)\u001b[38;5;241m.\u001b[39mfind(\u001b[38;5;124m\"\u001b[39m\u001b[38;5;124mgot an unexpected keyword argument \u001b[39m\u001b[38;5;124m'\u001b[39m\u001b[38;5;124mrender_mode\u001b[39m\u001b[38;5;124m'\u001b[39m\u001b[38;5;124m\"\u001b[39m) \u001b[38;5;241m>\u001b[39m\u001b[38;5;241m=\u001b[39m \u001b[38;5;241m0\u001b[39m\n\u001b[1;32m    644\u001b[0m         \u001b[38;5;129;01mand\u001b[39;00m apply_human_rendering\n\u001b[1;32m    645\u001b[0m     ):\n",
      "File \u001b[0;32m~/.local/lib/python3.10/site-packages/gym_super_mario_bros/smb_env.py:52\u001b[0m, in \u001b[0;36mSuperMarioBrosEnv.__init__\u001b[0;34m(self, rom_mode, lost_levels, target)\u001b[0m\n\u001b[1;32m     50\u001b[0m rom \u001b[38;5;241m=\u001b[39m rom_path(lost_levels, rom_mode)\n\u001b[1;32m     51\u001b[0m \u001b[38;5;66;03m# initialize the super object with the ROM path\u001b[39;00m\n\u001b[0;32m---> 52\u001b[0m \u001b[38;5;28;43msuper\u001b[39;49m\u001b[43m(\u001b[49m\u001b[43mSuperMarioBrosEnv\u001b[49m\u001b[43m,\u001b[49m\u001b[43m \u001b[49m\u001b[38;5;28;43mself\u001b[39;49m\u001b[43m)\u001b[49m\u001b[38;5;241;43m.\u001b[39;49m\u001b[38;5;21;43m__init__\u001b[39;49m\u001b[43m(\u001b[49m\u001b[43mrom\u001b[49m\u001b[43m)\u001b[49m\n\u001b[1;32m     53\u001b[0m \u001b[38;5;66;03m# set the target world, stage, and area variables\u001b[39;00m\n\u001b[1;32m     54\u001b[0m target \u001b[38;5;241m=\u001b[39m decode_target(target, lost_levels)\n",
      "File \u001b[0;32m~/.local/lib/python3.10/site-packages/nes_py/nes_env.py:126\u001b[0m, in \u001b[0;36mNESEnv.__init__\u001b[0;34m(self, rom_path)\u001b[0m\n\u001b[1;32m    124\u001b[0m     \u001b[38;5;28;01mraise\u001b[39;00m \u001b[38;5;167;01mValueError\u001b[39;00m(\u001b[38;5;124m'\u001b[39m\u001b[38;5;124mROM has trainer. trainer is not supported.\u001b[39m\u001b[38;5;124m'\u001b[39m)\n\u001b[1;32m    125\u001b[0m \u001b[38;5;66;03m# try to read the PRG ROM and raise a value error if it fails\u001b[39;00m\n\u001b[0;32m--> 126\u001b[0m _ \u001b[38;5;241m=\u001b[39m \u001b[43mrom\u001b[49m\u001b[38;5;241;43m.\u001b[39;49m\u001b[43mprg_rom\u001b[49m\n\u001b[1;32m    127\u001b[0m \u001b[38;5;66;03m# try to read the CHR ROM and raise a value error if it fails\u001b[39;00m\n\u001b[1;32m    128\u001b[0m _ \u001b[38;5;241m=\u001b[39m rom\u001b[38;5;241m.\u001b[39mchr_rom\n",
      "File \u001b[0;32m~/.local/lib/python3.10/site-packages/nes_py/_rom.py:204\u001b[0m, in \u001b[0;36mROM.prg_rom\u001b[0;34m(self)\u001b[0m\n\u001b[1;32m    202\u001b[0m \u001b[38;5;250m\u001b[39m\u001b[38;5;124;03m\"\"\"Return the PRG ROM of the ROM file.\"\"\"\u001b[39;00m\n\u001b[1;32m    203\u001b[0m \u001b[38;5;28;01mtry\u001b[39;00m:\n\u001b[0;32m--> 204\u001b[0m     \u001b[38;5;28;01mreturn\u001b[39;00m \u001b[38;5;28mself\u001b[39m\u001b[38;5;241m.\u001b[39mraw_data[\u001b[38;5;28mself\u001b[39m\u001b[38;5;241m.\u001b[39mprg_rom_start:\u001b[38;5;28;43mself\u001b[39;49m\u001b[38;5;241;43m.\u001b[39;49m\u001b[43mprg_rom_stop\u001b[49m]\n\u001b[1;32m    205\u001b[0m \u001b[38;5;28;01mexcept\u001b[39;00m \u001b[38;5;167;01mIndexError\u001b[39;00m:\n\u001b[1;32m    206\u001b[0m     \u001b[38;5;28;01mraise\u001b[39;00m \u001b[38;5;167;01mValueError\u001b[39;00m(\u001b[38;5;124m'\u001b[39m\u001b[38;5;124mfailed to read PRG-ROM on ROM.\u001b[39m\u001b[38;5;124m'\u001b[39m)\n",
      "File \u001b[0;32m~/.local/lib/python3.10/site-packages/nes_py/_rom.py:198\u001b[0m, in \u001b[0;36mROM.prg_rom_stop\u001b[0;34m(self)\u001b[0m\n\u001b[1;32m    195\u001b[0m \u001b[38;5;129m@property\u001b[39m\n\u001b[1;32m    196\u001b[0m \u001b[38;5;28;01mdef\u001b[39;00m\u001b[38;5;250m \u001b[39m\u001b[38;5;21mprg_rom_stop\u001b[39m(\u001b[38;5;28mself\u001b[39m):\n\u001b[1;32m    197\u001b[0m \u001b[38;5;250m    \u001b[39m\u001b[38;5;124;03m\"\"\"The exclusive stopping index of the PRG ROM.\"\"\"\u001b[39;00m\n\u001b[0;32m--> 198\u001b[0m     \u001b[38;5;28;01mreturn\u001b[39;00m \u001b[38;5;28mself\u001b[39m\u001b[38;5;241m.\u001b[39mprg_rom_start \u001b[38;5;241m+\u001b[39m \u001b[38;5;28;43mself\u001b[39;49m\u001b[38;5;241;43m.\u001b[39;49m\u001b[43mprg_rom_size\u001b[49m\u001b[43m \u001b[49m\u001b[38;5;241;43m*\u001b[39;49m\u001b[43m \u001b[49m\u001b[38;5;241;43m2\u001b[39;49m\u001b[38;5;241;43m*\u001b[39;49m\u001b[38;5;241;43m*\u001b[39;49m\u001b[38;5;241;43m10\u001b[39;49m\n",
      "\u001b[0;31mOverflowError\u001b[0m: Python integer 1024 out of bounds for uint8"
     ]
    }
   ],
   "source": [
    "# 安装必要库（在终端执行）\n",
    "# pip install gym-super-mario-bros stable-baselines3 nes-py torch\n",
    "\n",
    "import gym\n",
    "from nes_py.wrappers import JoypadSpace\n",
    "from gym_super_mario_bros.actions import SIMPLE_MOVEMENT\n",
    "from stable_baselines3 import PPO\n",
    "from stable_baselines3.common.vec_env import DummyVecEnv, VecFrameStack\n",
    "from stable_baselines3.common.callbacks import CheckpointCallback\n",
    "from stable_baselines3.common.monitor import Monitor\n",
    "from stable_baselines3.common.env_util import make_vec_env\n",
    "\n",
    "# 1. 创建环境预处理函数\n",
    "def make_env():\n",
    "    # 创建基础环境\n",
    "    env = gym.make('SuperMarioBros-v3', apply_api_compatibility=True, render_mode='rgb_array')\n",
    "    # 简化动作空间\n",
    "    env = JoypadSpace(env, SIMPLE_MOVEMENT)\n",
    "    return env\n",
    "\n",
    "# 2. 设置训练参数\n",
    "n_envs = 4                  # 并行环境数量\n",
    "total_timesteps = 1_000_000  # 总训练步数\n",
    "checkpoint_freq = 50_000     # 保存模型的间隔步数\n",
    "save_path = \"./mario_ppo\"    # 保存路径\n",
    "\n",
    "# 3. 创建向量化环境\n",
    "env = make_vec_env(\n",
    "    make_env,\n",
    "    n_envs=n_envs,\n",
    "    vec_env_cls=DummyVecEnv\n",
    ")\n",
    "\n",
    "# 堆叠4帧画面\n",
    "env = VecFrameStack(env, n_stack=4)\n",
    "\n",
    "# 4. 创建PPO模型\n",
    "model = PPO(\n",
    "    \"CnnPolicy\",\n",
    "    env,\n",
    "    verbose=1,\n",
    "    learning_rate=1e-4,\n",
    "    n_steps=2048,\n",
    "    batch_size=64,\n",
    "    n_epochs=10,\n",
    "    gamma=0.99,\n",
    "    gae_lambda=0.95,\n",
    "    clip_range=0.2,\n",
    "    tensorboard_log=\"./mario_tensorboard/\"\n",
    ")\n",
    "\n",
    "# 5. 设置检查点回调\n",
    "checkpoint_callback = CheckpointCallback(\n",
    "    save_freq=max(checkpoint_freq // n_envs, 1),\n",
    "    save_path=save_path,\n",
    "    name_prefix=\"mario_ppo\"\n",
    ")\n",
    "\n",
    "# 6. 开始训练\n",
    "model.learn(\n",
    "    total_timesteps=total_timesteps,\n",
    "    callback=checkpoint_callback,\n",
    "    tb_log_name=\"first_run\"\n",
    ")\n",
    "\n",
    "# 7. 保存最终模型\n",
    "model.save(f\"{save_path}/mario_ppo_final\")\n",
    "\n",
    "# 8. 测试训练结果\n",
    "test_env = make_env()\n",
    "test_env = Monitor(test_env)\n",
    "test_env = JoypadSpace(test_env, SIMPLE_MOVEMENT)\n",
    "test_env = DummyVecEnv([lambda: test_env])\n",
    "test_env = VecFrameStack(test_env, n_stack=4)\n",
    "\n",
    "obs = test_env.reset()\n",
    "for _ in range(10000):\n",
    "    action, _ = model.predict(obs)\n",
    "    obs, rewards, dones, info = test_env.step(action)\n",
    "    test_env.render()"
   ]
  }
 ],
 "metadata": {
  "kernelspec": {
   "display_name": "Python 3",
   "language": "python",
   "name": "python3"
  },
  "language_info": {
   "codemirror_mode": {
    "name": "ipython",
    "version": 3
   },
   "file_extension": ".py",
   "mimetype": "text/x-python",
   "name": "python",
   "nbconvert_exporter": "python",
   "pygments_lexer": "ipython3",
   "version": "3.10.12"
  }
 },
 "nbformat": 4,
 "nbformat_minor": 5
}
